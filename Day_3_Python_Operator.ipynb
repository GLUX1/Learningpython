{
  "nbformat": 4,
  "nbformat_minor": 0,
  "metadata": {
    "colab": {
      "provenance": []
    },
    "kernelspec": {
      "name": "python3",
      "display_name": "Python 3"
    },
    "language_info": {
      "name": "python"
    }
  },
  "cells": [
    {
      "cell_type": "code",
      "source": [
        "rvard"
      ],
      "metadata": {
        "id": "9Im2NSqezj2c"
      },
      "execution_count": null,
      "outputs": []
    },
    {
      "cell_type": "code",
      "execution_count": 2,
      "metadata": {
        "colab": {
          "base_uri": "https://localhost:8080/"
        },
        "id": "EfnQLEyAwzWd",
        "outputId": "89e1fb91-c8f3-4161-a8bb-f9526cc55e69"
      },
      "outputs": [
        {
          "name": "stdout",
          "output_type": "stream",
          "text": [
            "Name Lux\n",
            "Country UK\n",
            "University Name Havard\n",
            "Age Above 18 Years yes\n"
          ]
        }
      ],
      "source": [
        "Name=str(input(\"Name \"))\n",
        "Country=str(input(\"Country \"))\n",
        "University_Name=str(input(\"University Name \"))\n",
        "AgeAbove18Years=bool(input(\"Age Above 18 Years \"))"
      ]
    },
    {
      "cell_type": "code",
      "source": [
        "Numb1=int(input(\"4\" ))\n",
        "Numb2=int(input(\"2\" ))\n",
        "print(Numb1+Numb2)\n",
        "\n"
      ],
      "metadata": {
        "colab": {
          "base_uri": "https://localhost:8080/"
        },
        "id": "5IW2Y3x79C6l",
        "outputId": "7f46d26f-f75c-47ee-93d0-64f8d8db09f9"
      },
      "execution_count": 6,
      "outputs": [
        {
          "output_type": "stream",
          "name": "stdout",
          "text": [
            "4436637\n",
            "25262727\n",
            "5699364\n"
          ]
        }
      ]
    },
    {
      "cell_type": "code",
      "source": [],
      "metadata": {
        "id": "0LlFqSmr_c-g"
      },
      "execution_count": null,
      "outputs": []
    },
    {
      "cell_type": "code",
      "source": [
        "print(Numb1*Numb2)"
      ],
      "metadata": {
        "colab": {
          "base_uri": "https://localhost:8080/"
        },
        "id": "AmuFdnmW-_Vh",
        "outputId": "bb42eb76-2dc1-4407-df9b-568949a7a337"
      },
      "execution_count": 7,
      "outputs": [
        {
          "output_type": "stream",
          "name": "stdout",
          "text": [
            "2297901329099\n"
          ]
        }
      ]
    },
    {
      "cell_type": "code",
      "source": [
        "print(Numb1/Numb2)"
      ],
      "metadata": {
        "colab": {
          "base_uri": "https://localhost:8080/"
        },
        "id": "EeuiuSvW_K4t",
        "outputId": "9fef374b-6e73-4530-aaf4-6b76d82e274c"
      },
      "execution_count": 8,
      "outputs": [
        {
          "output_type": "stream",
          "name": "stdout",
          "text": [
            "0.08296782257563427\n"
          ]
        }
      ]
    },
    {
      "cell_type": "code",
      "source": [
        "print(Numb1-Numb2)"
      ],
      "metadata": {
        "colab": {
          "base_uri": "https://localhost:8080/"
        },
        "id": "ma1dPxdR_QX6",
        "outputId": "a38838b9-89c4-4d8f-99ae-f86816d870b6"
      },
      "execution_count": 9,
      "outputs": [
        {
          "output_type": "stream",
          "name": "stdout",
          "text": [
            "-4826090\n"
          ]
        }
      ]
    },
    {
      "cell_type": "code",
      "source": [
        "Numb1 -= Numb2\n",
        "print(Numb1)"
      ],
      "metadata": {
        "colab": {
          "base_uri": "https://localhost:8080/"
        },
        "id": "ADhJ9Q99AIK-",
        "outputId": "edd9bb7a-1438-4b41-f8dc-f981d15dd299"
      },
      "execution_count": 13,
      "outputs": [
        {
          "output_type": "stream",
          "name": "stdout",
          "text": [
            "-4826090\n"
          ]
        }
      ]
    }
  ]
}