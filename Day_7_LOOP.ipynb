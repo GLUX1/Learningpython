{
  "nbformat": 4,
  "nbformat_minor": 0,
  "metadata": {
    "colab": {
      "provenance": []
    },
    "kernelspec": {
      "name": "python3",
      "display_name": "Python 3"
    },
    "language_info": {
      "name": "python"
    }
  },
  "cells": [
    {
      "cell_type": "code",
      "source": [
        "for i in range(1 , 20):\n",
        "  if (i%2==0):\n",
        "    print(i)"
      ],
      "metadata": {
        "id": "L6i6Mpy3sFgJ",
        "colab": {
          "base_uri": "https://localhost:8080/"
        },
        "outputId": "98506771-16ca-4151-fff3-591db3142c2f"
      },
      "execution_count": null,
      "outputs": [
        {
          "output_type": "stream",
          "name": "stdout",
          "text": [
            "2\n",
            "4\n",
            "6\n",
            "8\n",
            "10\n",
            "12\n",
            "14\n",
            "16\n",
            "18\n"
          ]
        }
      ]
    },
    {
      "cell_type": "code",
      "source": [
        "for i in range(1 , 20):\n",
        "  print(i*2)"
      ],
      "metadata": {
        "colab": {
          "base_uri": "https://localhost:8080/"
        },
        "id": "Mch0sIixsntr",
        "outputId": "e1cfe893-85c3-4085-938d-5826d2b3b5b3"
      },
      "execution_count": null,
      "outputs": [
        {
          "output_type": "stream",
          "name": "stdout",
          "text": [
            "2\n",
            "4\n",
            "6\n",
            "8\n",
            "10\n",
            "12\n",
            "14\n",
            "16\n",
            "18\n",
            "20\n",
            "22\n",
            "24\n",
            "26\n",
            "28\n",
            "30\n",
            "32\n",
            "34\n",
            "36\n",
            "38\n"
          ]
        }
      ]
    },
    {
      "cell_type": "code",
      "source": [
        "name=\"Lux\"\n",
        "for i in range(1 , 10):\n",
        " print(name)\n"
      ],
      "metadata": {
        "colab": {
          "base_uri": "https://localhost:8080/"
        },
        "id": "n-YjNKEgtHIo",
        "outputId": "f8bd5025-a290-471c-f428-efbfec11bf79"
      },
      "execution_count": null,
      "outputs": [
        {
          "output_type": "stream",
          "name": "stdout",
          "text": [
            "Lux\n",
            "Lux\n",
            "Lux\n",
            "Lux\n",
            "Lux\n",
            "Lux\n",
            "Lux\n",
            "Lux\n",
            "Lux\n"
          ]
        }
      ]
    },
    {
      "cell_type": "code",
      "source": [
        "for i in range(1 , 10):\n",
        "  countryname=str(input(\"countryname \"))\n",
        "  print(countryname)"
      ],
      "metadata": {
        "colab": {
          "base_uri": "https://localhost:8080/"
        },
        "id": "KrWwMHd1uUWu",
        "outputId": "93f6c7f6-1499-44d2-e8ab-b8ac63a69271"
      },
      "execution_count": null,
      "outputs": [
        {
          "output_type": "stream",
          "name": "stdout",
          "text": [
            "countryname italy\n",
            "italy\n",
            "countryname s.a\n",
            "s.a\n",
            "countryname tz\n",
            "tz\n",
            "countryname nigeria\n",
            "nigeria\n",
            "countryname usa\n",
            "usa\n",
            "countryname france\n",
            "france\n",
            "countryname asia\n",
            "asia\n",
            "countryname china\n",
            "china\n",
            "countryname australia\n",
            "australia\n"
          ]
        }
      ]
    },
    {
      "cell_type": "code",
      "source": [
        "for i in range(10):\n",
        "  correctanswer=str(input(\"correct answer \"))\n",
        "  if correctanswer==\"computer science\" :\n",
        "    break\n",
        "  else:\n",
        "      print(\"stop\")"
      ],
      "metadata": {
        "colab": {
          "base_uri": "https://localhost:8080/"
        },
        "id": "qiht-jKGvYP6",
        "outputId": "bdbd2c63-2faa-4457-f364-8fca79562c6d"
      },
      "execution_count": null,
      "outputs": [
        {
          "name": "stdout",
          "output_type": "stream",
          "text": [
            "correct answer it\n",
            "stop\n",
            "correct answer computer science\n"
          ]
        }
      ]
    },
    {
      "cell_type": "code",
      "source": [
        "for i in range(10):\n",
        "  vacation=str(input(\"vacation\" ))\n",
        "  if vacation==\"USA\" :\n",
        "    break\n",
        "  else:\n",
        "      print(\"stop\")"
      ],
      "metadata": {
        "colab": {
          "base_uri": "https://localhost:8080/"
        },
        "id": "lKvi1Y8Uull2",
        "outputId": "55e7310c-ac11-4da0-b44a-e4015cc2ef53"
      },
      "execution_count": 5,
      "outputs": [
        {
          "name": "stdout",
          "output_type": "stream",
          "text": [
            "vacationCOME\n",
            "stop\n",
            "vacationUSA\n"
          ]
        }
      ]
    },
    {
      "cell_type": "code",
      "source": [],
      "metadata": {
        "id": "bOdu4XdFwXQd"
      },
      "execution_count": null,
      "outputs": []
    }
  ]
}