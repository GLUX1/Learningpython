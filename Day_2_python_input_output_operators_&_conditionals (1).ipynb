{
  "nbformat": 4,
  "nbformat_minor": 0,
  "metadata": {
    "colab": {
      "provenance": []
    },
    "kernelspec": {
      "name": "python3",
      "display_name": "Python 3"
    },
    "language_info": {
      "name": "python"
    }
  },
  "cells": [
    {
      "cell_type": "code",
      "execution_count": null,
      "metadata": {
        "id": "y9aB7G10oeqQ"
      },
      "outputs": [],
      "source": [
        "num1=5\n",
        "num2=10\n",
        "sum=num1+num2"
      ]
    },
    {
      "cell_type": "code",
      "source": [
        "Name=str(input (\"Name: \"))\n",
        "TotalNumberoffamily=int(input(\"Total number of family: \"))\n",
        "Age=int(input(\"Age: \"))\n"
      ],
      "metadata": {
        "colab": {
          "base_uri": "https://localhost:8080/"
        },
        "id": "TrWXhNv-xiso",
        "outputId": "75c356a0-9c34-4722-ba22-20dc75605d23"
      },
      "execution_count": 7,
      "outputs": [
        {
          "name": "stdout",
          "output_type": "stream",
          "text": [
            "Name: Lux\n",
            "Total number of family: 4\n",
            "Age: 25\n"
          ]
        }
      ]
    },
    {
      "cell_type": "code",
      "source": [
        "Number1=int(input(\"Number 1: \"))\n",
        "Number2=int(input(\"Number 2: \"))\n",
        "print(Number1*Number2)"
      ],
      "metadata": {
        "colab": {
          "base_uri": "https://localhost:8080/"
        },
        "id": "7i7x0Q3SzcTp",
        "outputId": "b0c5eda2-3248-4978-f3e0-2d5ff4d9a256"
      },
      "execution_count": 9,
      "outputs": [
        {
          "output_type": "stream",
          "name": "stdout",
          "text": [
            "Number 1: 6728937883\n",
            "Number 2: 526726181287891271278\n",
            "3544307755236017304487564024474\n"
          ]
        }
      ]
    }
  ]
}